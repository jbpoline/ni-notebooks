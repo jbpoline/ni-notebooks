{
 "metadata": {
  "name": "NIDM-Shim-XNAT"
 },
 "nbformat": 3,
 "nbformat_minor": 0,
 "worksheets": [
  {
   "cells": [
    {
     "cell_type": "markdown",
     "metadata": {
      "slideshow": {
       "slide_type": "slide"
      }
     },
     "source": [
      "# NIDASH Database Shims\n",
      "### An example using XNAT \n",
      "\n",
      "INCF NIDASH Task Force\n",
      "\n",
      "Written by:\n",
      "Nolan Nichols nolan.nichols@gmail.com"
     ]
    },
    {
     "cell_type": "markdown",
     "metadata": {
      "slideshow": {
       "slide_type": "slide"
      }
     },
     "source": [
      "# What is a Shim?\n",
      "\n",
      "- A light-weight wrapper that translates between data models\n",
      "- For example, translating between XNAT and the NIDASH Data Model\n",
      "- Provide access to a common representation of information"
     ]
    },
    {
     "cell_type": "markdown",
     "metadata": {
      "slideshow": {
       "slide_type": "slide"
      }
     },
     "source": [
      "# An Example Shim\n",
      "\n",
      "- XNAT exposes a RESTful API\n",
      "- pyXNAT is a Python client to access the XNAT API\n",
      "- [PROV](https://github.com/trungdong/prov) is a Python library that implements the [PROV Data Model](http://www.w3.org/TR/prov-dm/)\n",
      "- This notebook illustrates how to use pyXNAT and PROV to translate XNAT into the PROV Data Model\n",
      "- We extend the PROV Data Model with Neuroimaging terms - these terms constitute the NIDASH Data Model"
     ]
    },
    {
     "cell_type": "markdown",
     "metadata": {
      "slideshow": {
       "slide_type": "slide"
      }
     },
     "source": [
      "# Import Python Libraries"
     ]
    },
    {
     "cell_type": "code",
     "collapsed": false,
     "input": [
      "# system\n",
      "import os\n",
      "from socket import getfqdn\n",
      "import md5\n",
      "\n",
      "import prov.model as prov # prov data model\n",
      "from pyxnat import Interface # access xnat"
     ],
     "language": "python",
     "metadata": {},
     "outputs": [],
     "prompt_number": 15
    },
    {
     "cell_type": "markdown",
     "metadata": {
      "slideshow": {
       "slide_type": "slide"
      }
     },
     "source": [
      "# Establish a Connection to XNAT"
     ]
    },
    {
     "cell_type": "code",
     "collapsed": false,
     "input": [
      "# Define entry point to the XNAT API\n",
      "XNAT_ENDPOINT = \"http://www.nitrc.org/ir\"\n",
      "\n",
      "# Connect to XNAT\n",
      "xnat = Interface(server=XNAT_ENDPOINT, anonymous=True)\n",
      "\n",
      "# Get a List of Available Projects\n",
      "projects = xnat.select.projects().get()\n",
      "print projects"
     ],
     "language": "python",
     "metadata": {},
     "outputs": [
      {
       "output_type": "stream",
       "stream": "stdout",
       "text": [
        "['ABIDE', 'adhd_200', 'cs_schizbull08', 'fcon_1000']\n"
       ]
      }
     ],
     "prompt_number": 16
    },
    {
     "cell_type": "code",
     "collapsed": false,
     "input": [
      "# Pick a Specific Project and Connect \n",
      "PROJECT = \"fcon_1000\"\n",
      "project = xnat.select.project(PROJECT)"
     ],
     "language": "python",
     "metadata": {},
     "outputs": [],
     "prompt_number": 50
    },
    {
     "cell_type": "markdown",
     "metadata": {
      "slideshow": {
       "slide_type": "slide"
      }
     },
     "source": [
      "# Create a PROV Bundle to Store XNAT Information\n",
      "\n",
      "- A Bundle provides a way to describe a document \n",
      "- A ProvBundle object creates an in memory graph \n",
      "- The graph is used to store Entities, Activities, Agents and their Relationships"
     ]
    },
    {
     "cell_type": "code",
     "collapsed": false,
     "input": [
      "# create a prov bundle to store the graph\n",
      "bundle = prov.ProvBundle()\n",
      "\n",
      "# define namespaces \n",
      "nidm_ns = prov.Namespace(\"nidm\", \"http://nidm.nidash.org/\")\n",
      "nitrc_ns = prov.Namespace(\"nitrc\", \"http://www.nitrc.org/ir/\")\n",
      "xnat_ns = prov.Namespace(\"xnat\", \"http://www.xnat.org/\")\n",
      "niiri_ns = prov.Namespace(\"niiri\", \"http://nidm.nidash.org/iri/\")\n",
      "obo_ns = prov.Namespace(\"obo\", \"http://purl.obolibrary.org/obo/\")\n",
      "nif_ns = prov.Namespace(\"nif\", \"http://neurolex.org/wiki/\")\n",
      "\n",
      "# add namespaces to the graph\n",
      "bundle.add_namespace(nidm_ns)\n",
      "bundle.add_namespace(nitrc_ns)\n",
      "bundle.add_namespace(xnat_ns)\n",
      "bundle.add_namespace(niiri_ns)\n",
      "bundle.add_namespace(obo_ns)\n",
      "bundle.add_namespace(nif_ns)\n",
      "\n",
      "print bundle"
     ],
     "language": "python",
     "metadata": {},
     "outputs": [
      {
       "output_type": "stream",
       "stream": "stdout",
       "text": [
        "document\n",
        "  prefix obo <http://purl.obolibrary.org/obo/>\n",
        "  prefix nitrc <http://www.nitrc.org/ir/>\n",
        "  prefix nif <http://neurolex.org/wiki/>\n",
        "  prefix nidm <http://nidm.nidash.org/>\n",
        "  prefix xnat <http://www.xnat.org/>\n",
        "  prefix niiri <http://nidm.nidash.org/iri/>\n",
        "  \n",
        "endDocument\n"
       ]
      }
     ],
     "prompt_number": 52
    },
    {
     "cell_type": "markdown",
     "metadata": {
      "slideshow": {
       "slide_type": "slide"
      }
     },
     "source": [
      "# Add a Project to the Bundle"
     ]
    },
    {
     "cell_type": "code",
     "collapsed": false,
     "input": [
      "def add_project(bundle, project):\n",
      "    # project activity attributes\n",
      "    project_attr = [(prov.PROV[\"type\"], xnat_ns[\"Project\"]),\n",
      "                    (prov.PROV[\"type\"], nidm_ns[\"Project\"]),\n",
      "                    (prov.PROV[\"label\"], project.label()),\n",
      "                    (prov.PROV[\"location\"], nitrc_ns[project._uri]),\n",
      "                    (nidm_ns[\"project_id\"], project.id())]\n",
      "    \n",
      "    # create the activities\n",
      "    \n",
      "    project_iri = xnat_ns[md5.md5(project.id()).hexdigest()]\n",
      "    bundle.activity(project_iri, other_attributes=project_attr)\n",
      "    return project_iri\n",
      "\n",
      "# add a project to the bundle\n",
      "project_iri = add_project(bundle, project)\n",
      "print bundle"
     ],
     "language": "python",
     "metadata": {},
     "outputs": [
      {
       "output_type": "stream",
       "stream": "stdout",
       "text": [
        "document\n",
        "  prefix obo <http://purl.obolibrary.org/obo/>\n",
        "  prefix nitrc <http://www.nitrc.org/ir/>\n",
        "  prefix nif <http://neurolex.org/wiki/>\n",
        "  prefix nidm <http://nidm.nidash.org/>\n",
        "  prefix xnat <http://www.xnat.org/>\n",
        "  prefix niiri <http://nidm.nidash.org/iri/>\n",
        "  \n",
        "  activity(xnat:8c43c40d226ffc6e44c39dfa350ca39b, -, -, [prov:type='xnat:Project', prov:type='nidm:Project', prov:label=\"fcon_1000\", prov:location='nitrc:/data/projects/fcon_1000', nidm:project_id=\"fcon_1000\"])\n",
        "endDocument\n"
       ]
      }
     ],
     "prompt_number": 53
    },
    {
     "cell_type": "markdown",
     "metadata": {
      "slideshow": {
       "slide_type": "slide"
      }
     },
     "source": [
      "# Add a Participant to the Bundle"
     ]
    },
    {
     "cell_type": "code",
     "collapsed": false,
     "input": [
      "def add_participant(bundle, project, project_iri, subject_id):    \n",
      "    # fetch a xnat subject object from the project\n",
      "    subject = project.subject(subject_id)\n",
      "                \n",
      "    # setup subject attributes\n",
      "    subject_attr = [(prov.PROV[\"type\"], prov.PROV[\"person\"]), \n",
      "                    (prov.PROV[\"label\"], subject.label()),\n",
      "                    (prov.PROV[\"location\"], nitrc_ns[subject._uri]),\n",
      "                    (nidm_ns[\"participant_id\"], subject.id())]\n",
      "        \n",
      "    # create an agent \n",
      "    subject_iri = bundle.agent(niiri_ns[md5.md5(subject._uri).hexdigest()], \n",
      "                               subject_attr).get_identifier()\n",
      "    bundle.wasAssociatedWith(project_iri, subject_iri,\n",
      "                             other_attributes=[(prov.PROV['role'], nidm_ns[\"participant\"]), \n",
      "                                               (prov.PROV[\"role\"], xnat_ns[\"Subject\"])])           \n",
      "    return subject_iri"
     ],
     "language": "python",
     "metadata": {},
     "outputs": [],
     "prompt_number": 55
    },
    {
     "cell_type": "markdown",
     "metadata": {
      "slideshow": {
       "slide_type": "slide"
      }
     },
     "source": [
      "# Add a Participant to the Bundle"
     ]
    },
    {
     "cell_type": "code",
     "collapsed": false,
     "input": [
      "# get a list of subjects \n",
      "subjects = project.subjects().get()\n",
      "\n",
      "subject_map = dict()\n",
      "for subject_id in subjects[:3]:\n",
      "    subject_map[subject_id] = add_participant(bundle, project, project_iri, subject_id)\n",
      "    \n",
      "print bundle"
     ],
     "language": "python",
     "metadata": {},
     "outputs": [
      {
       "output_type": "stream",
       "stream": "stdout",
       "text": [
        "document\n",
        "  prefix obo <http://purl.obolibrary.org/obo/>\n",
        "  prefix nitrc <http://www.nitrc.org/ir/>\n",
        "  prefix nif <http://neurolex.org/wiki/>\n",
        "  prefix nidm <http://nidm.nidash.org/>\n",
        "  prefix xnat <http://www.xnat.org/>\n",
        "  prefix niiri <http://nidm.nidash.org/iri/>\n",
        "  \n",
        "  activity(xnat:8c43c40d226ffc6e44c39dfa350ca39b, -, -, [prov:type='xnat:Project', prov:type='nidm:Project', prov:label=\"fcon_1000\", prov:location='nitrc:/data/projects/fcon_1000', nidm:project_id=\"fcon_1000\"])\n",
        "  agent(niiri:b3e49498dddf3dafee79747dca043780, [prov:type='prov:person', prov:label=\"AnnArbor_sub04111\", prov:location='nitrc:/data/projects/fcon_1000/subjects/xnat_S00001', nidm:participant_id=\"xnat_S00001\"])\n",
        "  wasAssociatedWith(xnat:8c43c40d226ffc6e44c39dfa350ca39b, niiri:b3e49498dddf3dafee79747dca043780, -, [prov:role='nidm:participant', prov:role='xnat:Subject'])\n",
        "  agent(niiri:b3e49498dddf3dafee79747dca043780, [prov:type='prov:person', prov:label=\"AnnArbor_sub04111\", prov:location='nitrc:/data/projects/fcon_1000/subjects/xnat_S00001', nidm:participant_id=\"xnat_S00001\"])\n",
        "  wasAssociatedWith(xnat:8c43c40d226ffc6e44c39dfa350ca39b, niiri:b3e49498dddf3dafee79747dca043780, -, [prov:role='nidm:participant', prov:role='xnat:Subject'])\n",
        "  agent(niiri:7411aa0185892182e9d8c6dc7d2eb822, [prov:type='prov:person', prov:label=\"AnnArbor_sub04619\", prov:location='nitrc:/data/projects/fcon_1000/subjects/xnat_S00002', nidm:participant_id=\"xnat_S00002\"])\n",
        "  wasAssociatedWith(xnat:8c43c40d226ffc6e44c39dfa350ca39b, niiri:7411aa0185892182e9d8c6dc7d2eb822, -, [prov:role='nidm:participant', prov:role='xnat:Subject'])\n",
        "  agent(niiri:64af8c3dbf22ca8a0d802a471d59b1d9, [prov:type='prov:person', prov:label=\"AnnArbor_sub13636\", prov:location='nitrc:/data/projects/fcon_1000/subjects/xnat_S00003', nidm:participant_id=\"xnat_S00003\"])\n",
        "  wasAssociatedWith(xnat:8c43c40d226ffc6e44c39dfa350ca39b, niiri:64af8c3dbf22ca8a0d802a471d59b1d9, -, [prov:role='nidm:participant', prov:role='xnat:Subject'])\n",
        "endDocument\n"
       ]
      }
     ],
     "prompt_number": 56
    },
    {
     "cell_type": "markdown",
     "metadata": {
      "slideshow": {
       "slide_type": "slide"
      }
     },
     "source": [
      "# Add a Demographics Collection"
     ]
    },
    {
     "cell_type": "code",
     "collapsed": false,
     "input": [
      "def add_demographics_collection(subject_id, project_id)\n",
      "    # create a demographics collection\n",
      "    collection_id = g.collection(xnat_ns[uuid1().hex],[(prov.PROV['type'],xnat_ns['Demographics'])]).get_identifier()\n",
      "    g.wasAttributedTo(collection_id,subject_id)\n",
      "    g.wasGeneratedBy(collection_id, project_id)\n",
      "    return collection_id\n",
      "\n"
     ],
     "language": "python",
     "metadata": {},
     "outputs": [
      {
       "output_type": "stream",
       "stream": "stdout",
       "text": [
        "document\n",
        "  prefix xnat <http://www.nitrc.org/ir/>\n",
        "  prefix nidm <http://nidm.nidash.org/>\n",
        "  \n",
        "  activity(xnat:80b17dd7928811e2b71b00254bd36db4, -, -, [prov:type='xnat:Project', prov:type='nidm:Project', prov:label=\"fcon_1000\", nidm:project_id=\"fcon_1000\"])\n",
        "  agent(xnat:8184f919928811e2824000254bd36db4, [prov:type='xnat:Subject', prov:label=\"AnnArbor_sub04111\", nidm:participant_id=\"xnat_S00001\", prov:type='prov:person'])\n",
        "  wasAssociatedWith(xnat:80b17dd7928811e2b71b00254bd36db4, xnat:8184f919928811e2824000254bd36db4, -, [prov:role='nidm:participant'])\n",
        "  entity(xnat:81866ca8928811e2aa2700254bd36db4, [prov:type='xnat:Demographics', prov:type='prov:Collection'])\n",
        "  wasAttributedTo(xnat:81866ca8928811e2aa2700254bd36db4, xnat:8184f919928811e2824000254bd36db4)\n",
        "  wasGeneratedBy(xnat:81866ca8928811e2aa2700254bd36db4, xnat:80b17dd7928811e2b71b00254bd36db4, -)\n",
        "endDocument\n"
       ]
      }
     ],
     "prompt_number": 8
    },
    {
     "cell_type": "code",
     "collapsed": false,
     "input": [
      "# create age entity\n",
      "age = subject.xpath('/xnat:Subject/xnat:demographics/xnat:age/text()')\n",
      "age_attr = [(prov.PROV[\"type\"],xnat_ns[\"Age\"]),\n",
      "            (prov.PROV[\"type\"],nidm_ns[\"Age\"]),\n",
      "            (prov.PROV[\"label\"],\"Age\"),\n",
      "            (prov.PROV[\"value\"],age[0]),]\n",
      "\n",
      "# add age entity\n",
      "age_id = g.entity(xnat_ns[uuid1().hex],age_attr).get_identifier()\n",
      "g.hadMember(collection_id,age_id)\n",
      "print g.get_provn()"
     ],
     "language": "python",
     "metadata": {},
     "outputs": [
      {
       "output_type": "stream",
       "stream": "stdout",
       "text": [
        "document\n",
        "  prefix xnat <http://www.nitrc.org/ir/>\n",
        "  prefix nidm <http://nidm.nidash.org/>\n",
        "  \n",
        "  activity(xnat:80b17dd7928811e2b71b00254bd36db4, -, -, [prov:type='xnat:Project', prov:type='nidm:Project', prov:label=\"fcon_1000\", nidm:project_id=\"fcon_1000\"])\n",
        "  agent(xnat:8184f919928811e2824000254bd36db4, [prov:type='xnat:Subject', prov:label=\"AnnArbor_sub04111\", nidm:participant_id=\"xnat_S00001\", prov:type='prov:person'])\n",
        "  wasAssociatedWith(xnat:80b17dd7928811e2b71b00254bd36db4, xnat:8184f919928811e2824000254bd36db4, -, [prov:role='nidm:participant'])\n",
        "  entity(xnat:81866ca8928811e2aa2700254bd36db4, [prov:type='xnat:Demographics', prov:type='prov:Collection'])\n",
        "  wasAttributedTo(xnat:81866ca8928811e2aa2700254bd36db4, xnat:8184f919928811e2824000254bd36db4)\n",
        "  wasGeneratedBy(xnat:81866ca8928811e2aa2700254bd36db4, xnat:80b17dd7928811e2b71b00254bd36db4, -)\n",
        "  entity(xnat:81c20c26928811e2ac7e00254bd36db4, [prov:type='xnat:Age', prov:type='nidm:Age', prov:label=\"Age\", prov:value=\"25\"])\n",
        "  hadMember(xnat:81866ca8928811e2aa2700254bd36db4, xnat:81c20c26928811e2ac7e00254bd36db4)\n",
        "endDocument\n"
       ]
      }
     ],
     "prompt_number": 9
    },
    {
     "cell_type": "code",
     "collapsed": false,
     "input": [
      "# create gender entity\n",
      "gender = subject.xpath('/xnat:Subject/xnat:demographics/xnat:gender/text()')\n",
      "gender_attr = [(prov.PROV[\"type\"],xnat_ns[\"Gender\"]),\n",
      "            (prov.PROV[\"type\"],nidm_ns[\"Gender\"]),\n",
      "            (prov.PROV[\"label\"],\"Gender\"),\n",
      "            (prov.PROV[\"value\"],gender[0]),]\n",
      "\n",
      "# add gender entity\n",
      "gender_id = g.entity(xnat_ns[uuid1().hex],gender_attr).get_identifier()\n",
      "g.hadMember(collection_id, gender_id)\n",
      "print g.get_provn()"
     ],
     "language": "python",
     "metadata": {},
     "outputs": [
      {
       "output_type": "stream",
       "stream": "stdout",
       "text": [
        "document\n",
        "  prefix xnat <http://www.nitrc.org/ir/>\n",
        "  prefix nidm <http://nidm.nidash.org/>\n",
        "  \n",
        "  activity(xnat:80b17dd7928811e2b71b00254bd36db4, -, -, [prov:type='xnat:Project', prov:type='nidm:Project', prov:label=\"fcon_1000\", nidm:project_id=\"fcon_1000\"])\n",
        "  agent(xnat:8184f919928811e2824000254bd36db4, [prov:type='xnat:Subject', prov:label=\"AnnArbor_sub04111\", nidm:participant_id=\"xnat_S00001\", prov:type='prov:person'])\n",
        "  wasAssociatedWith(xnat:80b17dd7928811e2b71b00254bd36db4, xnat:8184f919928811e2824000254bd36db4, -, [prov:role='nidm:participant'])\n",
        "  entity(xnat:81866ca8928811e2aa2700254bd36db4, [prov:type='xnat:Demographics', prov:type='prov:Collection'])\n",
        "  wasAttributedTo(xnat:81866ca8928811e2aa2700254bd36db4, xnat:8184f919928811e2824000254bd36db4)\n",
        "  wasGeneratedBy(xnat:81866ca8928811e2aa2700254bd36db4, xnat:80b17dd7928811e2b71b00254bd36db4, -)\n",
        "  entity(xnat:81c20c26928811e2ac7e00254bd36db4, [prov:type='xnat:Age', prov:type='nidm:Age', prov:label=\"Age\", prov:value=\"25\"])\n",
        "  hadMember(xnat:81866ca8928811e2aa2700254bd36db4, xnat:81c20c26928811e2ac7e00254bd36db4)\n",
        "  entity(xnat:81c8e905928811e2899400254bd36db4, [prov:type='xnat:Gender', prov:type='nidm:Gender', prov:label=\"Gender\", prov:value=\"male\"])\n",
        "  hadMember(xnat:81866ca8928811e2aa2700254bd36db4, xnat:81c8e905928811e2899400254bd36db4)\n",
        "endDocument\n"
       ]
      }
     ],
     "prompt_number": 10
    },
    {
     "cell_type": "code",
     "collapsed": false,
     "input": [
      "# create handedness entity\n",
      "handedness = subject.xpath('/xnat:Subject/xnat:demographics/xnat:handedness/text()')\n",
      "handedness_attr = [(prov.PROV[\"type\"],xnat_ns[\"handedness\"]),\n",
      "            (prov.PROV[\"type\"],nidm_ns[\"handedness\"]),\n",
      "            (prov.PROV[\"label\"],\"handedness\"),\n",
      "            (prov.PROV[\"value\"],handedness[0]),]\n",
      "\n",
      "# add gender entity\n",
      "handedness_id = g.entity(xnat_ns[uuid1().hex],handedness_attr).get_identifier()\n",
      "g.hadMember(collection_id,handedness_id)\n",
      "print g.get_provn()"
     ],
     "language": "python",
     "metadata": {},
     "outputs": [
      {
       "output_type": "stream",
       "stream": "stdout",
       "text": [
        "document\n",
        "  prefix xnat <http://www.nitrc.org/ir/>\n",
        "  prefix nidm <http://nidm.nidash.org/>\n",
        "  \n",
        "  activity(xnat:80b17dd7928811e2b71b00254bd36db4, -, -, [prov:type='xnat:Project', prov:type='nidm:Project', prov:label=\"fcon_1000\", nidm:project_id=\"fcon_1000\"])\n",
        "  agent(xnat:8184f919928811e2824000254bd36db4, [prov:type='xnat:Subject', prov:label=\"AnnArbor_sub04111\", nidm:participant_id=\"xnat_S00001\", prov:type='prov:person'])\n",
        "  wasAssociatedWith(xnat:80b17dd7928811e2b71b00254bd36db4, xnat:8184f919928811e2824000254bd36db4, -, [prov:role='nidm:participant'])\n",
        "  entity(xnat:81866ca8928811e2aa2700254bd36db4, [prov:type='xnat:Demographics', prov:type='prov:Collection'])\n",
        "  wasAttributedTo(xnat:81866ca8928811e2aa2700254bd36db4, xnat:8184f919928811e2824000254bd36db4)\n",
        "  wasGeneratedBy(xnat:81866ca8928811e2aa2700254bd36db4, xnat:80b17dd7928811e2b71b00254bd36db4, -)\n",
        "  entity(xnat:81c20c26928811e2ac7e00254bd36db4, [prov:type='xnat:Age', prov:type='nidm:Age', prov:label=\"Age\", prov:value=\"25\"])\n",
        "  hadMember(xnat:81866ca8928811e2aa2700254bd36db4, xnat:81c20c26928811e2ac7e00254bd36db4)\n",
        "  entity(xnat:81c8e905928811e2899400254bd36db4, [prov:type='xnat:Gender', prov:type='nidm:Gender', prov:label=\"Gender\", prov:value=\"male\"])\n",
        "  hadMember(xnat:81866ca8928811e2aa2700254bd36db4, xnat:81c8e905928811e2899400254bd36db4)\n",
        "  entity(xnat:81cfe7fd928811e29de400254bd36db4, [prov:type='xnat:handedness', prov:type='nidm:handedness', prov:label=\"handedness\", prov:value=\"right\"])\n",
        "  hadMember(xnat:81866ca8928811e2aa2700254bd36db4, xnat:81cfe7fd928811e29de400254bd36db4)\n",
        "endDocument\n"
       ]
      }
     ],
     "prompt_number": 11
    },
    {
     "cell_type": "code",
     "collapsed": false,
     "input": [
      "with open(\"xnat.provn\",'w') as f:\n",
      "    f.write(g.get_provn())"
     ],
     "language": "python",
     "metadata": {},
     "outputs": [],
     "prompt_number": 12
    },
    {
     "cell_type": "code",
     "collapsed": false,
     "input": [
      "!./ProvToolbox/toolbox/target/appassembler/bin/provconvert -infile xnat.provn -outfile xnat.ttl"
     ],
     "language": "python",
     "metadata": {},
     "outputs": [
      {
       "output_type": "stream",
       "stream": "stdout",
       "text": [
        "InteropFramework run() -> {xsd=http://www.w3.org/2001/XMLSchema, prim=http://openprovenance.org/primitives#, prov=http://www.w3.org/ns/prov#, xsi=http://www.w3.org/2001/XMLSchema-instance, pc1=http://www.ipaw.info/pc1/}\r\n",
        "log4j:WARN No appenders could be found for logger (org.openprovenance.prov.interop.InteropFramework).\r\n",
        "log4j:WARN Please initialize the log4j system properly.\r\n",
        "log4j:WARN See http://logging.apache.org/log4j/1.2/faq.html#noconfig for more info.\r\n",
        "SLF4J: Failed to load class \"org.slf4j.impl.StaticLoggerBinder\".\r\n",
        "SLF4J: Defaulting to no-operation (NOP) logger implementation\r\n",
        "SLF4J: See http://www.slf4j.org/codes.html#StaticLoggerBinder for further details.\r\n"
       ]
      }
     ],
     "prompt_number": 13
    },
    {
     "cell_type": "code",
     "collapsed": false,
     "input": [
      "!cat xnat.ttl"
     ],
     "language": "python",
     "metadata": {},
     "outputs": [
      {
       "output_type": "stream",
       "stream": "stdout",
       "text": [
        "@prefix prov: <http://www.w3.org/ns/prov#> .\r\n",
        "@prefix prim: <http://openprovenance.org/primitives#> .\r\n",
        "@prefix xsd: <http://www.w3.org/2001/XMLSchema> .\r\n",
        "@prefix xsi: <http://www.w3.org/2001/XMLSchema-instance> .\r\n",
        "@prefix pc1: <http://www.ipaw.info/pc1/> .\r\n",
        "\r\n",
        "\r\n",
        "<http://www.nitrc.org/ir/80b17dd7928811e2b71b00254bd36db4> a prov:Activity , <http://www.nitrc.org/ir/Project> , <http://nidm.nidash.org/Project> ;\r\n",
        "\t<http://www.w3.org/2000/01/rdf-schema#label> \"fcon_1000\" ;\r\n",
        "\t<http://nidm.nidash.org/project_id> \"fcon_1000\"^^<http://www.w3.org/2001/XMLSchema#string> .\r\n",
        "\r\n",
        "<http://www.nitrc.org/ir/8184f919928811e2824000254bd36db4> a prov:Agent , <http://www.nitrc.org/ir/Subject> , prov:person ;\r\n",
        "\t<http://www.w3.org/2000/01/rdf-schema#label> \"AnnArbor_sub04111\" ;\r\n",
        "\t<http://nidm.nidash.org/participant_id> \"xnat_S00001\"^^<http://www.w3.org/2001/XMLSchema#string> .\r\n",
        "\r\n",
        "_:blank1 a prov:Association ;\r\n",
        "\tprov:agent <http://www.nitrc.org/ir/8184f919928811e2824000254bd36db4> .\r\n",
        "\r\n",
        "<http://www.nitrc.org/ir/80b17dd7928811e2b71b00254bd36db4> prov:qualifiedAssociation _:blank1 .\r\n",
        "\r\n",
        "_:blank1 prov:hadRole <http://nidm.nidash.org/participant> .\r\n",
        "\r\n",
        "<http://www.nitrc.org/ir/81866ca8928811e2aa2700254bd36db4> a prov:Entity , <http://www.nitrc.org/ir/Demographics> , prov:Collection ;\r\n",
        "\tprov:wasAttributedTo <http://www.nitrc.org/ir/8184f919928811e2824000254bd36db4> ;\r\n",
        "\tprov:wasGeneratedBy <http://www.nitrc.org/ir/80b17dd7928811e2b71b00254bd36db4> .\r\n",
        "\r\n",
        "<http://www.nitrc.org/ir/81c20c26928811e2ac7e00254bd36db4> a prov:Entity , <http://www.nitrc.org/ir/Age> , <http://nidm.nidash.org/Age> ;\r\n",
        "\t<http://www.w3.org/2000/01/rdf-schema#label> \"Age\" ;\r\n",
        "\tprov:value \"25\"^^<http://www.w3.org/2001/XMLSchema#string> .\r\n",
        "\r\n",
        "<http://www.nitrc.org/ir/81866ca8928811e2aa2700254bd36db4> prov:hadMember <http://www.nitrc.org/ir/81c20c26928811e2ac7e00254bd36db4> .\r\n",
        "\r\n",
        "<http://www.nitrc.org/ir/81c8e905928811e2899400254bd36db4> a prov:Entity , <http://www.nitrc.org/ir/Gender> , <http://nidm.nidash.org/Gender> ;\r\n",
        "\t<http://www.w3.org/2000/01/rdf-schema#label> \"Gender\" ;\r\n",
        "\tprov:value \"male\"^^<http://www.w3.org/2001/XMLSchema#string> .\r\n",
        "\r\n",
        "<http://www.nitrc.org/ir/81866ca8928811e2aa2700254bd36db4> prov:hadMember <http://www.nitrc.org/ir/81c8e905928811e2899400254bd36db4> .\r\n",
        "\r\n",
        "<http://www.nitrc.org/ir/81cfe7fd928811e29de400254bd36db4> a prov:Entity , <http://www.nitrc.org/ir/handedness> , <http://nidm.nidash.org/handedness> ;\r\n",
        "\t<http://www.w3.org/2000/01/rdf-schema#label> \"handedness\" ;\r\n",
        "\tprov:value \"right\"^^<http://www.w3.org/2001/XMLSchema#string> .\r\n",
        "\r\n",
        "<http://www.nitrc.org/ir/81866ca8928811e2aa2700254bd36db4> prov:hadMember <http://www.nitrc.org/ir/81cfe7fd928811e29de400254bd36db4> .\r\n"
       ]
      }
     ],
     "prompt_number": 17
    },
    {
     "cell_type": "code",
     "collapsed": false,
     "input": [
      "experiment = subject.experiment('xnat_E00001')"
     ],
     "language": "python",
     "metadata": {},
     "outputs": [],
     "prompt_number": 14
    },
    {
     "cell_type": "code",
     "collapsed": false,
     "input": [
      "experiment.scans().get()"
     ],
     "language": "python",
     "metadata": {},
     "outputs": [
      {
       "output_type": "pyout",
       "prompt_number": 15,
       "text": [
        "['anat_mprage_anonymized', 'anat_mprage_skullstripped', 'func_rest']"
       ]
      }
     ],
     "prompt_number": 15
    },
    {
     "cell_type": "code",
     "collapsed": false,
     "input": [
      "# create a experiment collection\n",
      "experiment_id = g.collection(xnat_ns[uuid1().hex],[(prov.PROV['type'],xnat_ns['MRSession']),(prov.PROV['type'],nidm_ns['Study'])]).get_identifier()\n",
      "g.wasAttributedTo(experiment_id,subject_id)\n",
      "g.wasGeneratedBy(experiment_id, project_id)\n",
      "print g.get_provn()"
     ],
     "language": "python",
     "metadata": {},
     "outputs": [
      {
       "output_type": "stream",
       "stream": "stdout",
       "text": [
        "document\n",
        "  prefix xnat <http://www.nitrc.org/ir/>\n",
        "  prefix nidm <http://nidm.nidash.org/>\n",
        "  \n",
        "  activity(xnat:80b17dd7928811e2b71b00254bd36db4, -, -, [prov:type='xnat:Project', prov:type='nidm:Project', prov:label=\"fcon_1000\", nidm:project_id=\"fcon_1000\"])\n",
        "  agent(xnat:8184f919928811e2824000254bd36db4, [prov:type='xnat:Subject', prov:label=\"AnnArbor_sub04111\", nidm:participant_id=\"xnat_S00001\", prov:type='prov:person'])\n",
        "  wasAssociatedWith(xnat:80b17dd7928811e2b71b00254bd36db4, xnat:8184f919928811e2824000254bd36db4, -, [prov:role='nidm:participant'])\n",
        "  entity(xnat:81866ca8928811e2aa2700254bd36db4, [prov:type='xnat:Demographics', prov:type='prov:Collection'])\n",
        "  wasAttributedTo(xnat:81866ca8928811e2aa2700254bd36db4, xnat:8184f919928811e2824000254bd36db4)\n",
        "  wasGeneratedBy(xnat:81866ca8928811e2aa2700254bd36db4, xnat:80b17dd7928811e2b71b00254bd36db4, -)\n",
        "  entity(xnat:81c20c26928811e2ac7e00254bd36db4, [prov:type='xnat:Age', prov:type='nidm:Age', prov:label=\"Age\", prov:value=\"25\"])\n",
        "  hadMember(xnat:81866ca8928811e2aa2700254bd36db4, xnat:81c20c26928811e2ac7e00254bd36db4)\n",
        "  entity(xnat:81c8e905928811e2899400254bd36db4, [prov:type='xnat:Gender', prov:type='nidm:Gender', prov:label=\"Gender\", prov:value=\"male\"])\n",
        "  hadMember(xnat:81866ca8928811e2aa2700254bd36db4, xnat:81c8e905928811e2899400254bd36db4)\n",
        "  entity(xnat:81cfe7fd928811e29de400254bd36db4, [prov:type='xnat:handedness', prov:type='nidm:handedness', prov:label=\"handedness\", prov:value=\"right\"])\n",
        "  hadMember(xnat:81866ca8928811e2aa2700254bd36db4, xnat:81cfe7fd928811e29de400254bd36db4)\n",
        "  entity(xnat:82d898c7928811e2bd8900254bd36db4, [prov:type='xnat:MRSession', prov:type='nidm:Study', prov:type='prov:Collection'])\n",
        "  wasAttributedTo(xnat:82d898c7928811e2bd8900254bd36db4, xnat:8184f919928811e2824000254bd36db4)\n",
        "  wasGeneratedBy(xnat:82d898c7928811e2bd8900254bd36db4, xnat:80b17dd7928811e2b71b00254bd36db4, -)\n",
        "endDocument"
       ]
      },
      {
       "output_type": "stream",
       "stream": "stdout",
       "text": [
        "\n"
       ]
      }
     ],
     "prompt_number": 16
    }
   ],
   "metadata": {}
  }
 ]
}